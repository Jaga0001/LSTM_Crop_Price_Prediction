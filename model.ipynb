{
 "cells": [
  {
   "cell_type": "code",
   "execution_count": 6,
   "metadata": {},
   "outputs": [
    {
     "name": "stdout",
     "output_type": "stream",
     "text": [
      "All Packages Imported Successfully\n"
     ]
    }
   ],
   "source": [
    "import pandas as pd\n",
    "import numpy as np\n",
    "from sklearn.preprocessing import LabelEncoder, MinMaxScaler\n",
    "from sklearn.model_selection import train_test_split\n",
    "import torch\n",
    "import torch.nn as nn\n",
    "from torch.utils.data import DataLoader, TensorDataset\n",
    "\n",
    "print('All Packages Imported Successfully')"
   ]
  },
  {
   "cell_type": "code",
   "execution_count": 7,
   "metadata": {},
   "outputs": [
    {
     "data": {
      "text/html": [
       "<div>\n",
       "<style scoped>\n",
       "    .dataframe tbody tr th:only-of-type {\n",
       "        vertical-align: middle;\n",
       "    }\n",
       "\n",
       "    .dataframe tbody tr th {\n",
       "        vertical-align: top;\n",
       "    }\n",
       "\n",
       "    .dataframe thead th {\n",
       "        text-align: right;\n",
       "    }\n",
       "</style>\n",
       "<table border=\"1\" class=\"dataframe\">\n",
       "  <thead>\n",
       "    <tr style=\"text-align: right;\">\n",
       "      <th></th>\n",
       "      <th>Date</th>\n",
       "      <th>State</th>\n",
       "      <th>Humidity</th>\n",
       "      <th>Seasonality</th>\n",
       "      <th>Buffer Stock</th>\n",
       "      <th>Rainfall</th>\n",
       "      <th>Category</th>\n",
       "      <th>Price</th>\n",
       "    </tr>\n",
       "  </thead>\n",
       "  <tbody>\n",
       "    <tr>\n",
       "      <th>0</th>\n",
       "      <td>2023-01-01</td>\n",
       "      <td>Andhra Pradesh</td>\n",
       "      <td>26.88</td>\n",
       "      <td>Rabi</td>\n",
       "      <td>137.09</td>\n",
       "      <td>19.95</td>\n",
       "      <td>Onion</td>\n",
       "      <td>28.62</td>\n",
       "    </tr>\n",
       "    <tr>\n",
       "      <th>1</th>\n",
       "      <td>2023-01-01</td>\n",
       "      <td>Andhra Pradesh</td>\n",
       "      <td>26.88</td>\n",
       "      <td>Rabi</td>\n",
       "      <td>137.09</td>\n",
       "      <td>19.95</td>\n",
       "      <td>Potato</td>\n",
       "      <td>21.05</td>\n",
       "    </tr>\n",
       "    <tr>\n",
       "      <th>2</th>\n",
       "      <td>2023-01-01</td>\n",
       "      <td>Andhra Pradesh</td>\n",
       "      <td>26.88</td>\n",
       "      <td>Rabi</td>\n",
       "      <td>137.09</td>\n",
       "      <td>19.95</td>\n",
       "      <td>Gram</td>\n",
       "      <td>64.46</td>\n",
       "    </tr>\n",
       "    <tr>\n",
       "      <th>3</th>\n",
       "      <td>2023-01-01</td>\n",
       "      <td>Andhra Pradesh</td>\n",
       "      <td>26.88</td>\n",
       "      <td>Rabi</td>\n",
       "      <td>137.09</td>\n",
       "      <td>19.95</td>\n",
       "      <td>Tur</td>\n",
       "      <td>72.19</td>\n",
       "    </tr>\n",
       "    <tr>\n",
       "      <th>4</th>\n",
       "      <td>2023-01-01</td>\n",
       "      <td>Andhra Pradesh</td>\n",
       "      <td>26.88</td>\n",
       "      <td>Rabi</td>\n",
       "      <td>137.09</td>\n",
       "      <td>19.95</td>\n",
       "      <td>Urad</td>\n",
       "      <td>65.78</td>\n",
       "    </tr>\n",
       "  </tbody>\n",
       "</table>\n",
       "</div>"
      ],
      "text/plain": [
       "         Date           State  Humidity Seasonality  Buffer Stock  Rainfall  \\\n",
       "0  2023-01-01  Andhra Pradesh     26.88        Rabi        137.09     19.95   \n",
       "1  2023-01-01  Andhra Pradesh     26.88        Rabi        137.09     19.95   \n",
       "2  2023-01-01  Andhra Pradesh     26.88        Rabi        137.09     19.95   \n",
       "3  2023-01-01  Andhra Pradesh     26.88        Rabi        137.09     19.95   \n",
       "4  2023-01-01  Andhra Pradesh     26.88        Rabi        137.09     19.95   \n",
       "\n",
       "  Category  Price  \n",
       "0    Onion  28.62  \n",
       "1   Potato  21.05  \n",
       "2     Gram  64.46  \n",
       "3      Tur  72.19  \n",
       "4     Urad  65.78  "
      ]
     },
     "execution_count": 7,
     "metadata": {},
     "output_type": "execute_result"
    }
   ],
   "source": [
    "# Load the dataset to examine its structure\n",
    "file_path = 'dataset.csv'\n",
    "data = pd.read_csv(file_path)\n",
    "\n",
    "# Display the first few rows of the dataset to understand its contents\n",
    "data.head()"
   ]
  },
  {
   "cell_type": "code",
   "execution_count": 8,
   "metadata": {},
   "outputs": [],
   "source": [
    "data['Date'] = pd.to_datetime(data['Date'])\n",
    "label_encoder_state = LabelEncoder()\n",
    "label_encoder_category = LabelEncoder()\n",
    "label_encoder_seasonality = LabelEncoder()\n",
    "\n",
    "data['State'] = label_encoder_state.fit_transform(data['State'])\n",
    "data['Category'] = label_encoder_category.fit_transform(data['Category'])\n",
    "data['Seasonality'] = label_encoder_seasonality.fit_transform(data['Seasonality'])"
   ]
  },
  {
   "cell_type": "code",
   "execution_count": 9,
   "metadata": {},
   "outputs": [],
   "source": [
    "# Features to scale\n",
    "scaler = MinMaxScaler()\n",
    "scaled_columns = ['Humidity', 'Buffer Stock', 'Rainfall', 'Price']\n",
    "data[scaled_columns] = scaler.fit_transform(data[scaled_columns])"
   ]
  },
  {
   "cell_type": "code",
   "execution_count": 10,
   "metadata": {},
   "outputs": [],
   "source": [
    "# Select features and target (Price) for LSTM\n",
    "features = data[['State', 'Humidity', 'Seasonality', 'Buffer Stock', 'Rainfall', 'Category']].values\n",
    "target = data['Price'].values\n"
   ]
  },
  {
   "cell_type": "code",
   "execution_count": 11,
   "metadata": {},
   "outputs": [],
   "source": [
    "# Split the data into training and testing sets\n",
    "X_train, X_test, y_train, y_test = train_test_split(features, target, test_size=0.2, shuffle=False)"
   ]
  },
  {
   "cell_type": "code",
   "execution_count": 12,
   "metadata": {},
   "outputs": [],
   "source": [
    "# Convert to PyTorch tensors\n",
    "X_train_tensor = torch.Tensor(X_train)\n",
    "X_test_tensor = torch.Tensor(X_test)\n",
    "y_train_tensor = torch.Tensor(y_train)\n",
    "y_test_tensor = torch.Tensor(y_test)"
   ]
  },
  {
   "cell_type": "code",
   "execution_count": 13,
   "metadata": {},
   "outputs": [],
   "source": [
    "# Reshape the input to [batch, sequence, feature] for LSTM\n",
    "X_train_tensor = X_train_tensor.view(X_train_tensor.shape[0], 1, X_train_tensor.shape[1])\n",
    "X_test_tensor = X_test_tensor.view(X_test_tensor.shape[0], 1, X_test_tensor.shape[1])"
   ]
  },
  {
   "cell_type": "code",
   "execution_count": 14,
   "metadata": {},
   "outputs": [],
   "source": [
    "# Create PyTorch Dataset and DataLoader\n",
    "train_dataset = TensorDataset(X_train_tensor, y_train_tensor)\n",
    "test_dataset = TensorDataset(X_test_tensor, y_test_tensor)\n",
    "\n",
    "train_loader = DataLoader(train_dataset, batch_size=64, shuffle=True)\n",
    "test_loader = DataLoader(test_dataset, batch_size=64, shuffle=False)"
   ]
  },
  {
   "cell_type": "code",
   "execution_count": 15,
   "metadata": {},
   "outputs": [],
   "source": [
    "# Define LSTM Model\n",
    "class LSTMModel(nn.Module):\n",
    "    def __init__(self, input_size, hidden_size, output_size, num_layers=1):\n",
    "        super(LSTMModel, self).__init__()\n",
    "        self.hidden_size = hidden_size\n",
    "        self.num_layers = num_layers\n",
    "        self.lstm = nn.LSTM(input_size, hidden_size, num_layers, batch_first=True)\n",
    "        self.fc = nn.Linear(hidden_size, output_size)\n",
    "    \n",
    "    def forward(self, x):\n",
    "        h_0 = torch.zeros(self.num_layers, x.size(0), self.hidden_size).to(x.device)\n",
    "        c_0 = torch.zeros(self.num_layers, x.size(0), self.hidden_size).to(x.device)\n",
    "        out, _ = self.lstm(x, (h_0, c_0))\n",
    "        out = self.fc(out[:, -1, :])  # get the last time step output\n",
    "        return out"
   ]
  },
  {
   "cell_type": "code",
   "execution_count": 16,
   "metadata": {},
   "outputs": [],
   "source": [
    "input_size = X_train_tensor.shape[2]"
   ]
  },
  {
   "cell_type": "code",
   "execution_count": 17,
   "metadata": {},
   "outputs": [],
   "source": [
    "model = LSTMModel(input_size, hidden_size=100, output_size=1, num_layers=2)  # Increase num_layers\n",
    "criterion = nn.MSELoss()\n",
    "optimizer = torch.optim.Adam(model.parameters(), lr=0.001)"
   ]
  },
  {
   "cell_type": "code",
   "execution_count": 18,
   "metadata": {},
   "outputs": [
    {
     "name": "stdout",
     "output_type": "stream",
     "text": [
      "Epoch [5/20], Loss: 0.0023\n",
      "Epoch [10/20], Loss: 0.0024\n",
      "Epoch [15/20], Loss: 0.0025\n",
      "Epoch [20/20], Loss: 0.0029\n"
     ]
    }
   ],
   "source": [
    "# Train the model\n",
    "num_epochs = 20\n",
    "for epoch in range(num_epochs):\n",
    "    model.train()\n",
    "    for features_batch, target_batch in train_loader:\n",
    "        # Forward pass\n",
    "        outputs = model(features_batch)\n",
    "        loss = criterion(outputs.squeeze(), target_batch)\n",
    "        \n",
    "        # Backward pass and optimization\n",
    "        optimizer.zero_grad()\n",
    "        loss.backward()\n",
    "        optimizer.step()\n",
    "    \n",
    "    if (epoch+1) % 5 == 0:\n",
    "        print(f'Epoch [{epoch+1}/{num_epochs}], Loss: {loss.item():.4f}')"
   ]
  },
  {
   "cell_type": "code",
   "execution_count": 19,
   "metadata": {},
   "outputs": [],
   "source": [
    "# Evaluate the model on the test set\n",
    "model.eval()\n",
    "with torch.no_grad():\n",
    "    test_predictions = []\n",
    "    actual_values = []\n",
    "    for features_batch, target_batch in test_loader:\n",
    "        outputs = model(features_batch)\n",
    "        test_predictions.append(outputs.squeeze().numpy())\n",
    "        actual_values.append(target_batch.numpy())\n"
   ]
  },
  {
   "cell_type": "code",
   "execution_count": 20,
   "metadata": {},
   "outputs": [],
   "source": [
    "# Flatten predictions and actual values\n",
    "test_predictions = np.concatenate(test_predictions)\n",
    "actual_values = np.concatenate(actual_values)"
   ]
  },
  {
   "cell_type": "code",
   "execution_count": 21,
   "metadata": {},
   "outputs": [],
   "source": [
    "# Prepare data for inverse scaling\n",
    "# Create a placeholder for the scaled values with the same number of features\n",
    "scaled_values = np.zeros((len(test_predictions), len(scaled_columns)))\n",
    "\n",
    "# Insert the predicted and actual price values into the appropriate index\n",
    "scaled_values[:, -1] = test_predictions  # 'Price' was the last scaled column\n",
    "actual_values_scaled = np.zeros((len(actual_values), len(scaled_columns)))\n",
    "actual_values_scaled[:, -1] = actual_values  # Same for actual prices\n",
    "\n",
    "# Now inverse transform using only the 'Price' column\n",
    "test_predictions_real = scaler.inverse_transform(scaled_values)[:, -1]\n",
    "actual_values_real = scaler.inverse_transform(actual_values_scaled)[:, -1]\n",
    "\n",
    "# Now you can compare the real prices\n"
   ]
  },
  {
   "cell_type": "code",
   "execution_count": 22,
   "metadata": {},
   "outputs": [
    {
     "name": "stdout",
     "output_type": "stream",
     "text": [
      "Test Accuracy: 89.28%\n"
     ]
    }
   ],
   "source": [
    "# Calculate Mean Absolute Percentage Error (MAPE)\n",
    "mape = np.mean(np.abs((actual_values - test_predictions) / actual_values)) * 100\n",
    "\n",
    "# Accuracy is the complement of the error\n",
    "accuracy = 100 - mape\n",
    "print(f'Test Accuracy: {accuracy:.2f}%')"
   ]
  },
  {
   "cell_type": "code",
   "execution_count": 23,
   "metadata": {},
   "outputs": [
    {
     "data": {
      "image/png": "[encoded data removed]",
      "text/plain": [
       "<Figure size 1000x600 with 1 Axes>"
      ]
     },
     "metadata": {},
     "output_type": "display_data"
    }
   ],
   "source": [
    "# Plot the actual vs predicted prices\n",
    "import matplotlib.pyplot as plt\n",
    "\n",
    "plt.figure(figsize=(10,6))\n",
    "plt.plot(actual_values, label='Actual Prices')\n",
    "plt.plot(test_predictions, label='Predicted Prices')\n",
    "plt.legend()\n",
    "plt.title('Actual vs Predicted Prices')\n",
    "plt.show()"
   ]
  },
  {
   "cell_type": "code",
   "execution_count": 24,
   "metadata": {},
   "outputs": [
    {
     "name": "stdout",
     "output_type": "stream",
     "text": [
      "Model saved to lstm_price_prediction_model.pkl\n"
     ]
    }
   ],
   "source": [
    "import torch\n",
    "\n",
    "# Save the model to a .pkl file\n",
    "model_file_path = 'lstm_price_prediction_model.pkl'\n",
    "torch.save(model.state_dict(), model_file_path)\n",
    "\n",
    "print(f\"Model saved to {model_file_path}\")\n"
   ]
  },
  {
   "cell_type": "code",
   "execution_count": 25,
   "metadata": {},
   "outputs": [
    {
     "name": "stderr",
     "output_type": "stream",
     "text": [
      "C:\\Users\\jagaj\\AppData\\Local\\Temp\\ipykernel_23056\\2299971214.py:3: FutureWarning: You are using `torch.load` with `weights_only=False` (the current default value), which uses the default pickle module implicitly. It is possible to construct malicious pickle data which will execute arbitrary code during unpickling (See https://github.com/pytorch/pytorch/blob/main/SECURITY.md#untrusted-models for more details). In a future release, the default value for `weights_only` will be flipped to `True`. This limits the functions that could be executed during unpickling. Arbitrary objects will no longer be allowed to be loaded via this mode unless they are explicitly allowlisted by the user via `torch.serialization.add_safe_globals`. We recommend you start setting `weights_only=True` for any use case where you don't have full control of the loaded file. Please open an issue on GitHub for any issues related to this experimental feature.\n",
      "  model.load_state_dict(torch.load('lstm_price_prediction_model.pkl'))\n"
     ]
    },
    {
     "data": {
      "text/plain": [
       "LSTMModel(\n",
       "  (lstm): LSTM(6, 100, num_layers=2, batch_first=True)\n",
       "  (fc): Linear(in_features=100, out_features=1, bias=True)\n",
       ")"
      ]
     },
     "execution_count": 25,
     "metadata": {},
     "output_type": "execute_result"
    }
   ],
   "source": [
    "# Load the saved model\n",
    "model = LSTMModel(input_size, hidden_size=100, output_size=1, num_layers=2)\n",
    "model.load_state_dict(torch.load('lstm_price_prediction_model.pkl'))\n",
    "model.eval()  # Set the model to evaluation mode"
   ]
  },
  {
   "cell_type": "code",
   "execution_count": 26,
   "metadata": {},
   "outputs": [],
   "source": [
    "# Function to make predictions for a given category\n",
    "def predict_for_category(state, humidity, seasonality, buffer_stock, rainfall, category_name):\n",
    "    # Convert categorical data to numerical values using the previously fitted LabelEncoders\n",
    "    state_encoded = label_encoder_state.transform([state])[0]\n",
    "    seasonality_encoded = label_encoder_seasonality.transform([seasonality])[0]\n",
    "    category_encoded = label_encoder_category.transform([category_name])[0]\n",
    "    \n",
    "    # Prepare the input features as a tensor\n",
    "    input_features = torch.Tensor([[state_encoded, humidity, seasonality_encoded, buffer_stock, rainfall, category_encoded]])\n",
    "    \n",
    "    # Reshape to match LSTM input format [batch_size, sequence_length, input_size]\n",
    "    input_features = input_features.view(1, 1, -1)  # 1 sample, 1 time step, feature_size\n",
    "    \n",
    "    # Make prediction\n",
    "    with torch.no_grad():\n",
    "        predicted_price = model(input_features).item()  # Get the prediction\n",
    "    \n",
    "    # Inverse transform the predicted price to get the real price\n",
    "    scaled_values = np.zeros((1, len(scaled_columns)))  # Initialize an array for inverse transform\n",
    "    scaled_values[:, -1] = predicted_price  # Place the predicted price in the 'Price' column\n",
    "    real_price = scaler.inverse_transform(scaled_values)[:, -1][0]  # Inverse scale the price\n",
    "    \n",
    "    return real_price"
   ]
  },
  {
   "cell_type": "code",
   "execution_count": 31,
   "metadata": {},
   "outputs": [],
   "source": [
    "# Example usage:\n",
    "state = \"Andhra Pradesh\"\n",
    "humidity = 26.88\n",
    "seasonality = \"Rabi\"\n",
    "buffer_stock = 137.09\n",
    "rainfall = 19.95\n",
    "category_name = \"Urad\""
   ]
  },
  {
   "cell_type": "code",
   "execution_count": 32,
   "metadata": {},
   "outputs": [
    {
     "name": "stdout",
     "output_type": "stream",
     "text": [
      "The predicted price for Urad in Andhra Pradesh is: 60.42\n"
     ]
    }
   ],
   "source": [
    "predicted_price = predict_for_category(state, humidity, seasonality, buffer_stock, rainfall, category_name)\n",
    "print(f\"The predicted price for {category_name} in {state} is: {predicted_price:.2f}\")"
   ]
  }
 ],
 "metadata": {
  "kernelspec": {
   "display_name": "base",
   "language": "python",
   "name": "python3"
  },
  "language_info": {
   "codemirror_mode": {
    "name": "ipython",
    "version": 3
   },
   "file_extension": ".py",
   "mimetype": "text/x-python",
   "name": "python",
   "nbconvert_exporter": "python",
   "pygments_lexer": "ipython3",
   "version": "3.12.4"
  }
 },
 "nbformat": 4,
 "nbformat_minor": 2
}
